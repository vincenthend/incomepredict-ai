{
 "cells": [
  {
   "cell_type": "markdown",
   "metadata": {},
   "source": [
    "# Force Checking"
   ]
  },
  {
   "cell_type": "code",
   "execution_count": null,
   "metadata": {},
   "outputs": [],
   "source": [
    "# Library Import\n",
    "import pandas as pd\n",
    "from pandas import DataFrame\n",
    "import graphviz\n",
    "from sklearn import preprocessing\n",
    "import pickle\n",
    "\n",
    "# Algorithm\n",
    "from sklearn.naive_bayes import GaussianNB\n",
    "from sklearn import tree\n",
    "from sklearn.neighbors import KNeighborsClassifier\n",
    "from sklearn.neural_network import MLPClassifier\n",
    "\n",
    "from sklearn.model_selection import KFold\n",
    "from sklearn.model_selection import cross_val_score\n",
    "from sklearn.model_selection import cross_val_predict\n",
    "from sklearn.metrics import confusion_matrix"
   ]
  },
  {
   "cell_type": "code",
   "execution_count": null,
   "metadata": {},
   "outputs": [],
   "source": [
    "column = [\"age\", \"fnlwgt\", \"education-num\", \"capital-gain\", \"capital-loss\", \"hours-per-week\", \"workclass_Federal-gov\", \"workclass_Local-gov\", \"workclass_Never-worked\", \"workclass_Private\", \"workclass_Self-emp-inc\", \"workclass_Self-emp-not-inc\", \"workclass_State-gov\", \"workclass_Without-pay\", \"education_10th\", \"education_11th\", \"education_12th\", \"education_1st-4th\", \"education_5th-6th\", \"education_7th-8th\", \"education_9th\", \"education_Assoc-acdm\", \"education_Assoc-voc\", \"education_Bachelors\", \"education_Doctorate\", \"education_HS-grad\", \"education_Masters\", \"education_Preschool\", \"education_Prof-school\", \"education_Some-college\", \"marital-status_Divorced\", \"marital-status_Married-AF-spouse\", \"marital-status_Married-civ-spouse\", \"marital-status_Married-spouse-absent\", \"marital-status_Never-married\", \"marital-status_Separated\", \"marital-status_Widowed\", \"occupation_Adm-clerical\", \"occupation_Armed-Forces\", \"occupation_Craft-repair\", \"occupation_Exec-managerial\", \"occupation_Farming-fishing\", \"occupation_Handlers-cleaners\", \"occupation_Machine-op-inspct\", \"occupation_Other-service\", \"occupation_Priv-house-serv\", \"occupation_Prof-specialty\", \"occupation_Protective-serv\", \"occupation_Sales\", \"occupation_Tech-support\", \"occupation_Transport-moving\", \"relationship_Husband\", \"relationship_Not-in-family\", \"relationship_Other-relative\", \"relationship_Own-child\", \"relationship_Unmarried\", \"relationship_Wife\", \"race_Amer-Indian-Eskimo\", \"race_Asian-Pac-Islander\", \"race_Black\", \"race_Other\", \"race_White\", \"sex_Female\", \"sex_Male\", \"native-country_Cambodia\", \"native-country_Canada\", \"native-country_China\", \"native-country_Columbia\", \"native-country_Cuba\", \"native-country_Dominican-Republic\", \"native-country_Ecuador\", \"native-country_El-Salvador\", \"native-country_England\", \"native-country_France\", \"native-country_Germany\", \"native-country_Greece\", \"native-country_Guatemala\", \"native-country_Haiti\", \"native-country_Holand-Netherlands\", \"native-country_Honduras\", \"native-country_Hong\", \"native-country_Hungary\", \"native-country_India\", \"native-country_Iran\", \"native-country_Ireland\", \"native-country_Italy\", \"native-country_Jamaica\", \"native-country_Japan\", \"native-country_Laos\", \"native-country_Mexico\", \"native-country_Nicaragua\", \"native-country_Outlying-US(Guam-USVI-etc)\", \"native-country_Peru\", \"native-country_Philippines\", \"native-country_Poland\", \"native-country_Portugal\", \"native-country_Puerto-Rico\", \"native-country_Scotland\", \"native-country_South\", \"native-country_Taiwan\", \"native-country_Thailand\", \"native-country_Trinadad&Tobago\", \"native-country_United-States\", \"native-country_Vietnam\", \"native-country_Yugoslavia\"]\n",
    "atributeNames = [\"age\",\"workclass\",\"fnlwgt\",\"education\",\"education-num\",\"marital-status\",\"occupation\",\"relationship\",\"race\",\"sex\",\"capital-gain\",\"capital-loss\",\"hours-per-week\",\"native-country\",\"target\"]"
   ]
  },
  {
   "cell_type": "code",
   "execution_count": null,
   "metadata": {},
   "outputs": [],
   "source": [
    "income = pd.read_csv('data/CensusIncome.data.csv', header=None, names = atributeNames, sep = \",\\s\", engine=\"python\", na_values=\"?\");\n",
    "income = income.apply(lambda x:x.fillna(x.value_counts().index[0])) \n",
    "income = income.drop(columns=['fnlwgt', 'race', 'native-country'])\n",
    "income = pd.get_dummies(income, columns=[\"workclass\", \"education\",\"marital-status\",\"occupation\",\"relationship\",\"sex\"])\n",
    "x = income[[i for i in list(income.columns) if i != 'target']].values\n",
    "y = income['target'].values"
   ]
  },
  {
   "cell_type": "code",
   "execution_count": null,
   "metadata": {},
   "outputs": [],
   "source": [
    "test_data = pd.read_csv('data/CensusIncome.test.csv', header=None, names = atributeNames, sep = \",\\s\", engine=\"python\", na_values=\"?\", comment=\"|\");\n",
    "test_data = test_data.apply(lambda x:x.fillna(x.value_counts().index[0]))\n",
    "test_data = test_data.drop(columns=['fnlwgt','race', 'native-country'])\n",
    "test_data = pd.get_dummies(test_data, columns=[\"workclass\",\"education\",\"marital-status\",\"occupation\",\"relationship\",\"sex\"])\n",
    "\n",
    "test_dataframe = pd.DataFrame(columns = income.columns)\n",
    "test_dataframe.append(test_data)\n",
    "\n",
    "test_dataframe = pd.concat([test_dataframe, test_data], axis=0)\n",
    "test_dataframe = test_dataframe.fillna(0)\n",
    "\n",
    "x_test = test_dataframe[[i for i in list(test_dataframe.columns) if i != 'target']].values\n",
    "y_test = pd.DataFrame(test_dataframe['target'].values)"
   ]
  },
  {
   "cell_type": "code",
   "execution_count": null,
   "metadata": {},
   "outputs": [],
   "source": [
    "score_arr = []\n",
    "matrix_arr = []\n",
    "max_score = 0\n",
    "max_score_idx = 0\n",
    "max_arr = 0\n",
    "max_arr_idx = 0"
   ]
  },
  {
   "cell_type": "markdown",
   "metadata": {},
   "source": [
    "### ID3 Bruteforce"
   ]
  },
  {
   "cell_type": "code",
   "execution_count": null,
   "metadata": {},
   "outputs": [],
   "source": [
    "# ID3 Brute\n",
    "for n in range(1,income.count(axis=1)[0]):\n",
    "    dt_out = tree.DecisionTreeClassifier(criterion='entropy', max_features = n)\n",
    "    dt_out = dt_out.fit(x,y)\n",
    "    \n",
    "    score = dt_out.score(x_test, y_test)\n",
    "    score_arr.append(score);\n",
    "    if score > max_score :\n",
    "        max_score = score\n",
    "        max_score_idx = n\n",
    "        pickle.dump(dt_out,open(\"max_score.pkl\", \"wb+\"))\n",
    "    \n",
    "    y_pred = dt_out.predict(x_test)\n",
    "    matrix = confusion_matrix(y_test,y_pred)\n",
    "    matrix_score = matrix[1][1]/matrix[0][0]\n",
    "    matrix_arr.append(matrix_score)\n",
    "    if matrix_score > max_arr :\n",
    "        max_arr = matrix_score\n",
    "        max_arr_idx = n\n",
    "        pickle.dump(dt_out,open(\"max_arr.pkl\", \"wb+\"))"
   ]
  },
  {
   "cell_type": "markdown",
   "metadata": {},
   "source": [
    "### MLP Bruteforce (HidLyr Contents)"
   ]
  },
  {
   "cell_type": "code",
   "execution_count": null,
   "metadata": {},
   "outputs": [],
   "source": [
    "for n in range(1,105):\n",
    "    dt_out = mlp = MLPClassifier(solver='lbfgs', alpha=1e-5, hidden_layer_sizes=(70,n), random_state=1)\n",
    "    dt_out = dt_out.fit(x,y)\n",
    "    \n",
    "    score = dt_out.score(x_test, y_test)\n",
    "    score_arr.append(score);\n",
    "    if score > max_score :\n",
    "        max_score = score\n",
    "        max_score_idx = n\n",
    "        pickle.dump(dt_out,open(\"max_score.pkl\", \"wb+\"))\n",
    "    \n",
    "    y_pred = dt_out.predict(x_test)\n",
    "    matrix = confusion_matrix(y_test,y_pred)\n",
    "    matrix_score = matrix[1][1]/matrix[0][0]\n",
    "    matrix_arr.append(matrix_score)\n",
    "    if matrix_score > max_arr :\n",
    "        max_arr = matrix_score\n",
    "        max_arr_idx = n\n",
    "        pickle.dump(dt_out,open(\"max_arr.pkl\", \"wb+\"))"
   ]
  },
  {
   "cell_type": "markdown",
   "metadata": {},
   "source": [
    "## Print Result"
   ]
  },
  {
   "cell_type": "code",
   "execution_count": null,
   "metadata": {},
   "outputs": [],
   "source": [
    "print(\"Max Score Idx : \", max_score_idx)\n",
    "print(\"Max Score : %f\" % max_score)\n",
    "\n",
    "print(\"Max Arr Idx : \", max_arr_idx)\n",
    "print(\"Max Arr : %f\" % max_arr)\n",
    "\n",
    "print(\"\\nScore Arr\")\n",
    "print(score_arr)\n",
    "#print(\"\\nMatrix Arr\")\n",
    "#print(matrix_arr)"
   ]
  },
  {
   "cell_type": "code",
   "execution_count": null,
   "metadata": {},
   "outputs": [],
   "source": [
    "tree_model = pickle.load(open(\"max_score.pkl\",\"rb+\"))\n",
    "\n",
    "score = tree_model.score(x_test, y_test)\n",
    "print(\"Score : %f\" % (score*100))\n",
    "y_pred = tree_model.predict(x_test)\n",
    "print(confusion_matrix(y_test,y_pred))"
   ]
  }
 ],
 "metadata": {
  "kernelspec": {
   "display_name": "Python 3",
   "language": "python",
   "name": "python3"
  },
  "language_info": {
   "codemirror_mode": {
    "name": "ipython",
    "version": 3
   },
   "file_extension": ".py",
   "mimetype": "text/x-python",
   "name": "python",
   "nbconvert_exporter": "python",
   "pygments_lexer": "ipython3",
   "version": "3.5.2"
  }
 },
 "nbformat": 4,
 "nbformat_minor": 2
}
