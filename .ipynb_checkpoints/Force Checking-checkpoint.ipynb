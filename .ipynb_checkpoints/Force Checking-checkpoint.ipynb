{
 "cells": [
  {
   "cell_type": "markdown",
   "metadata": {},
   "source": [
    "# Force Checking"
   ]
  },
  {
   "cell_type": "code",
   "execution_count": 2,
   "metadata": {},
   "outputs": [],
   "source": [
    "# Library Import\n",
    "import pandas as pd\n",
    "from pandas import DataFrame\n",
    "import graphviz\n",
    "from sklearn import preprocessing\n",
    "import pickle\n",
    "\n",
    "# Algorithm\n",
    "from sklearn.naive_bayes import GaussianNB\n",
    "from sklearn import tree\n",
    "from sklearn.neighbors import KNeighborsClassifier\n",
    "from sklearn.neural_network import MLPClassifier\n",
    "\n",
    "from sklearn.model_selection import KFold\n",
    "from sklearn.model_selection import cross_val_score\n",
    "from sklearn.model_selection import cross_val_predict\n",
    "from sklearn.metrics import confusion_matrix"
   ]
  },
  {
   "cell_type": "code",
   "execution_count": 3,
   "metadata": {},
   "outputs": [],
   "source": [
    "column = [\"age\", \"fnlwgt\", \"education-num\", \"capital-gain\", \"capital-loss\", \"hours-per-week\", \"workclass_Federal-gov\", \"workclass_Local-gov\", \"workclass_Never-worked\", \"workclass_Private\", \"workclass_Self-emp-inc\", \"workclass_Self-emp-not-inc\", \"workclass_State-gov\", \"workclass_Without-pay\", \"education_10th\", \"education_11th\", \"education_12th\", \"education_1st-4th\", \"education_5th-6th\", \"education_7th-8th\", \"education_9th\", \"education_Assoc-acdm\", \"education_Assoc-voc\", \"education_Bachelors\", \"education_Doctorate\", \"education_HS-grad\", \"education_Masters\", \"education_Preschool\", \"education_Prof-school\", \"education_Some-college\", \"marital-status_Divorced\", \"marital-status_Married-AF-spouse\", \"marital-status_Married-civ-spouse\", \"marital-status_Married-spouse-absent\", \"marital-status_Never-married\", \"marital-status_Separated\", \"marital-status_Widowed\", \"occupation_Adm-clerical\", \"occupation_Armed-Forces\", \"occupation_Craft-repair\", \"occupation_Exec-managerial\", \"occupation_Farming-fishing\", \"occupation_Handlers-cleaners\", \"occupation_Machine-op-inspct\", \"occupation_Other-service\", \"occupation_Priv-house-serv\", \"occupation_Prof-specialty\", \"occupation_Protective-serv\", \"occupation_Sales\", \"occupation_Tech-support\", \"occupation_Transport-moving\", \"relationship_Husband\", \"relationship_Not-in-family\", \"relationship_Other-relative\", \"relationship_Own-child\", \"relationship_Unmarried\", \"relationship_Wife\", \"race_Amer-Indian-Eskimo\", \"race_Asian-Pac-Islander\", \"race_Black\", \"race_Other\", \"race_White\", \"sex_Female\", \"sex_Male\", \"native-country_Cambodia\", \"native-country_Canada\", \"native-country_China\", \"native-country_Columbia\", \"native-country_Cuba\", \"native-country_Dominican-Republic\", \"native-country_Ecuador\", \"native-country_El-Salvador\", \"native-country_England\", \"native-country_France\", \"native-country_Germany\", \"native-country_Greece\", \"native-country_Guatemala\", \"native-country_Haiti\", \"native-country_Holand-Netherlands\", \"native-country_Honduras\", \"native-country_Hong\", \"native-country_Hungary\", \"native-country_India\", \"native-country_Iran\", \"native-country_Ireland\", \"native-country_Italy\", \"native-country_Jamaica\", \"native-country_Japan\", \"native-country_Laos\", \"native-country_Mexico\", \"native-country_Nicaragua\", \"native-country_Outlying-US(Guam-USVI-etc)\", \"native-country_Peru\", \"native-country_Philippines\", \"native-country_Poland\", \"native-country_Portugal\", \"native-country_Puerto-Rico\", \"native-country_Scotland\", \"native-country_South\", \"native-country_Taiwan\", \"native-country_Thailand\", \"native-country_Trinadad&Tobago\", \"native-country_United-States\", \"native-country_Vietnam\", \"native-country_Yugoslavia\"]\n",
    "atributeNames = [\"age\",\"workclass\",\"fnlwgt\",\"education\",\"education-num\",\"marital-status\",\"occupation\",\"relationship\",\"race\",\"sex\",\"capital-gain\",\"capital-loss\",\"hours-per-week\",\"native-country\",\"target\"]"
   ]
  },
  {
   "cell_type": "code",
   "execution_count": 4,
   "metadata": {},
   "outputs": [],
   "source": [
    "income = pd.read_csv('data/CensusIncome.data.csv', header=None, names = atributeNames, sep = \",\\s\", engine=\"python\", na_values=\"?\");\n",
    "income = income.apply(lambda x:x.fillna(x.value_counts().index[0])) \n",
    "income = income.drop(columns=['fnlwgt', 'race', 'native-country'])\n",
    "income = pd.get_dummies(income, columns=[\"workclass\", \"education\",\"marital-status\",\"occupation\",\"relationship\",\"sex\"])\n",
    "x = income[[i for i in list(income.columns) if i != 'target']].values\n",
    "y = income['target'].values"
   ]
  },
  {
   "cell_type": "code",
   "execution_count": 5,
   "metadata": {},
   "outputs": [],
   "source": [
    "test_data = pd.read_csv('data/CensusIncome.test.csv', header=None, names = atributeNames, sep = \",\\s\", engine=\"python\", na_values=\"?\", comment=\"|\");\n",
    "test_data = test_data.apply(lambda x:x.fillna(x.value_counts().index[0]))\n",
    "test_data = test_data.drop(columns=['fnlwgt','race', 'native-country'])\n",
    "test_data = pd.get_dummies(test_data, columns=[\"workclass\",\"education\",\"marital-status\",\"occupation\",\"relationship\",\"sex\"])\n",
    "\n",
    "test_dataframe = pd.DataFrame(columns = income.columns)\n",
    "test_dataframe.append(test_data)\n",
    "\n",
    "test_dataframe = pd.concat([test_dataframe, test_data], axis=0)\n",
    "test_dataframe = test_dataframe.fillna(0)\n",
    "\n",
    "x_test = test_dataframe[[i for i in list(test_dataframe.columns) if i != 'target']].values\n",
    "y_test = pd.DataFrame(test_dataframe['target'].values)"
   ]
  },
  {
   "cell_type": "code",
   "execution_count": 10,
   "metadata": {},
   "outputs": [],
   "source": [
    "score_arr = []\n",
    "matrix_arr = []\n",
    "max_score = 0\n",
    "max_score_idx = 0\n",
    "max_arr = 0\n",
    "max_arr_idx = 0"
   ]
  },
  {
   "cell_type": "markdown",
   "metadata": {},
   "source": [
    "### KNN Bruteforce"
   ]
  },
  {
   "cell_type": "code",
   "execution_count": null,
   "metadata": {},
   "outputs": [
    {
     "name": "stdout",
     "output_type": "stream",
     "text": [
      "23  :  0.855668836752\n",
      "28  :  0.855853089301\n"
     ]
    }
   ],
   "source": [
    "# KNN Brute\n",
    "for n in range(23,101,5):\n",
    "    dt_out = KNeighborsClassifier(n_neighbors=n)\n",
    "    dt_out = dt_out.fit(x,y)\n",
    "    \n",
    "    score = dt_out.score(x_test, y_test)\n",
    "    score_arr.append(score);\n",
    "    if score > max_score :\n",
    "        max_score = score\n",
    "        max_score_idx = n\n",
    "        pickle.dump(dt_out,open(\"max_score.pkl\", \"wb+\"))\n",
    "        print(n,\" : \", score)\n",
    "    "
   ]
  },
  {
   "cell_type": "markdown",
   "metadata": {},
   "source": [
    "### ID3 Bruteforce"
   ]
  },
  {
   "cell_type": "code",
   "execution_count": 9,
   "metadata": {},
   "outputs": [
    {
     "ename": "KeyboardInterrupt",
     "evalue": "",
     "output_type": "error",
     "traceback": [
      "\u001b[0;31m---------------------------------------------------------------------------\u001b[0m",
      "\u001b[0;31mKeyboardInterrupt\u001b[0m                         Traceback (most recent call last)",
      "\u001b[0;32m<ipython-input-9-938345b882dc>\u001b[0m in \u001b[0;36m<module>\u001b[0;34m()\u001b[0m\n\u001b[1;32m      2\u001b[0m \u001b[0;32mfor\u001b[0m \u001b[0mn\u001b[0m \u001b[0;32min\u001b[0m \u001b[0mrange\u001b[0m\u001b[0;34m(\u001b[0m\u001b[0;36m1\u001b[0m\u001b[0;34m,\u001b[0m\u001b[0mincome\u001b[0m\u001b[0;34m.\u001b[0m\u001b[0mcount\u001b[0m\u001b[0;34m(\u001b[0m\u001b[0maxis\u001b[0m\u001b[0;34m=\u001b[0m\u001b[0;36m1\u001b[0m\u001b[0;34m)\u001b[0m\u001b[0;34m[\u001b[0m\u001b[0;36m0\u001b[0m\u001b[0;34m]\u001b[0m\u001b[0;34m)\u001b[0m\u001b[0;34m:\u001b[0m\u001b[0;34m\u001b[0m\u001b[0m\n\u001b[1;32m      3\u001b[0m     \u001b[0mdt_out\u001b[0m \u001b[0;34m=\u001b[0m \u001b[0mtree\u001b[0m\u001b[0;34m.\u001b[0m\u001b[0mDecisionTreeClassifier\u001b[0m\u001b[0;34m(\u001b[0m\u001b[0mcriterion\u001b[0m\u001b[0;34m=\u001b[0m\u001b[0;34m'entropy'\u001b[0m\u001b[0;34m,\u001b[0m \u001b[0mmax_features\u001b[0m \u001b[0;34m=\u001b[0m \u001b[0mn\u001b[0m\u001b[0;34m)\u001b[0m\u001b[0;34m\u001b[0m\u001b[0m\n\u001b[0;32m----> 4\u001b[0;31m     \u001b[0mdt_out\u001b[0m \u001b[0;34m=\u001b[0m \u001b[0mdt_out\u001b[0m\u001b[0;34m.\u001b[0m\u001b[0mfit\u001b[0m\u001b[0;34m(\u001b[0m\u001b[0mx\u001b[0m\u001b[0;34m,\u001b[0m\u001b[0my\u001b[0m\u001b[0;34m)\u001b[0m\u001b[0;34m\u001b[0m\u001b[0m\n\u001b[0m\u001b[1;32m      5\u001b[0m \u001b[0;34m\u001b[0m\u001b[0m\n\u001b[1;32m      6\u001b[0m     \u001b[0mscore\u001b[0m \u001b[0;34m=\u001b[0m \u001b[0mdt_out\u001b[0m\u001b[0;34m.\u001b[0m\u001b[0mscore\u001b[0m\u001b[0;34m(\u001b[0m\u001b[0mx_test\u001b[0m\u001b[0;34m,\u001b[0m \u001b[0my_test\u001b[0m\u001b[0;34m)\u001b[0m\u001b[0;34m\u001b[0m\u001b[0m\n",
      "\u001b[0;32m/usr/local/lib/python3.5/dist-packages/sklearn/tree/tree.py\u001b[0m in \u001b[0;36mfit\u001b[0;34m(self, X, y, sample_weight, check_input, X_idx_sorted)\u001b[0m\n\u001b[1;32m    788\u001b[0m             \u001b[0msample_weight\u001b[0m\u001b[0;34m=\u001b[0m\u001b[0msample_weight\u001b[0m\u001b[0;34m,\u001b[0m\u001b[0;34m\u001b[0m\u001b[0m\n\u001b[1;32m    789\u001b[0m             \u001b[0mcheck_input\u001b[0m\u001b[0;34m=\u001b[0m\u001b[0mcheck_input\u001b[0m\u001b[0;34m,\u001b[0m\u001b[0;34m\u001b[0m\u001b[0m\n\u001b[0;32m--> 790\u001b[0;31m             X_idx_sorted=X_idx_sorted)\n\u001b[0m\u001b[1;32m    791\u001b[0m         \u001b[0;32mreturn\u001b[0m \u001b[0mself\u001b[0m\u001b[0;34m\u001b[0m\u001b[0m\n\u001b[1;32m    792\u001b[0m \u001b[0;34m\u001b[0m\u001b[0m\n",
      "\u001b[0;32m/usr/local/lib/python3.5/dist-packages/sklearn/tree/tree.py\u001b[0m in \u001b[0;36mfit\u001b[0;34m(self, X, y, sample_weight, check_input, X_idx_sorted)\u001b[0m\n\u001b[1;32m    360\u001b[0m                                            min_impurity_split)\n\u001b[1;32m    361\u001b[0m \u001b[0;34m\u001b[0m\u001b[0m\n\u001b[0;32m--> 362\u001b[0;31m         \u001b[0mbuilder\u001b[0m\u001b[0;34m.\u001b[0m\u001b[0mbuild\u001b[0m\u001b[0;34m(\u001b[0m\u001b[0mself\u001b[0m\u001b[0;34m.\u001b[0m\u001b[0mtree_\u001b[0m\u001b[0;34m,\u001b[0m \u001b[0mX\u001b[0m\u001b[0;34m,\u001b[0m \u001b[0my\u001b[0m\u001b[0;34m,\u001b[0m \u001b[0msample_weight\u001b[0m\u001b[0;34m,\u001b[0m \u001b[0mX_idx_sorted\u001b[0m\u001b[0;34m)\u001b[0m\u001b[0;34m\u001b[0m\u001b[0m\n\u001b[0m\u001b[1;32m    363\u001b[0m \u001b[0;34m\u001b[0m\u001b[0m\n\u001b[1;32m    364\u001b[0m         \u001b[0;32mif\u001b[0m \u001b[0mself\u001b[0m\u001b[0;34m.\u001b[0m\u001b[0mn_outputs_\u001b[0m \u001b[0;34m==\u001b[0m \u001b[0;36m1\u001b[0m\u001b[0;34m:\u001b[0m\u001b[0;34m\u001b[0m\u001b[0m\n",
      "\u001b[0;31mKeyboardInterrupt\u001b[0m: "
     ]
    }
   ],
   "source": [
    "# ID3 Brute\n",
    "for n in range(1,income.count(axis=1)[0]):\n",
    "    dt_out = tree.DecisionTreeClassifier(criterion='entropy', max_features = n)\n",
    "    dt_out = dt_out.fit(x,y)\n",
    "    \n",
    "    score = dt_out.score(x_test, y_test)\n",
    "    score_arr.append(score);\n",
    "    if score > max_score :\n",
    "        max_score = score\n",
    "        max_score_idx = n\n",
    "        pickle.dump(dt_out,open(\"max_score.pkl\", \"wb+\"))"
   ]
  },
  {
   "cell_type": "markdown",
   "metadata": {},
   "source": [
    "### MLP Bruteforce (HidLyr Contents)"
   ]
  },
  {
   "cell_type": "code",
   "execution_count": null,
   "metadata": {},
   "outputs": [],
   "source": [
    "for n in range(1,105):\n",
    "    dt_out = mlp = MLPClassifier(solver='lbfgs', alpha=1e-5, hidden_layer_sizes=(70,n), random_state=1)\n",
    "    dt_out = dt_out.fit(x,y)\n",
    "    \n",
    "    score = dt_out.score(x_test, y_test)\n",
    "    score_arr.append(score);\n",
    "    if score > max_score :\n",
    "        max_score = score\n",
    "        max_score_idx = n\n",
    "        pickle.dump(dt_out,open(\"max_score.pkl\", \"wb+\"))"
   ]
  },
  {
   "cell_type": "markdown",
   "metadata": {},
   "source": [
    "## Print Result"
   ]
  },
  {
   "cell_type": "code",
   "execution_count": 8,
   "metadata": {},
   "outputs": [
    {
     "name": "stdout",
     "output_type": "stream",
     "text": [
      "Max Score Idx :  23\n",
      "Max Score : 0.855669\n",
      "Max Arr Idx :  3\n",
      "Max Arr : 0.219486\n",
      "\n",
      "Score Arr\n",
      "[0.84252548826925444, 0.84885149244564551, 0.84946566760840192, 0.85050976538508782, 0.85241370838963271, 0.85511607910576093, 0.85401056381279938, 0.85364205871514554, 0.85431765139417759, 0.85530033165458785, 0.8556688367522417, 0.85480899152438272, 0.85487040904065836, 0.85450190394300451]\n"
     ]
    }
   ],
   "source": [
    "print(\"Max Score Idx : \", max_score_idx)\n",
    "print(\"Max Score : %f\" % max_score)\n",
    "\n",
    "print(\"Max Arr Idx : \", max_arr_idx)\n",
    "print(\"Max Arr : %f\" % max_arr)\n",
    "\n",
    "print(\"\\nScore Arr\")\n",
    "print(score_arr)\n",
    "#print(\"\\nMatrix Arr\")\n",
    "#print(matrix_arr)"
   ]
  },
  {
   "cell_type": "code",
   "execution_count": null,
   "metadata": {},
   "outputs": [],
   "source": [
    "tree_model = pickle.load(open(\"max_score.pkl\",\"rb+\"))\n",
    "\n",
    "score = tree_model.score(x_test, y_test)\n",
    "print(\"Score : %f\" % (score*100))\n",
    "y_pred = tree_model.predict(x_test)\n",
    "print(confusion_matrix(y_test,y_pred))"
   ]
  }
 ],
 "metadata": {
  "kernelspec": {
   "display_name": "Python 3",
   "language": "python",
   "name": "python3"
  },
  "language_info": {
   "codemirror_mode": {
    "name": "ipython",
    "version": 3
   },
   "file_extension": ".py",
   "mimetype": "text/x-python",
   "name": "python",
   "nbconvert_exporter": "python",
   "pygments_lexer": "ipython3",
   "version": "3.5.2"
  }
 },
 "nbformat": 4,
 "nbformat_minor": 2
}
